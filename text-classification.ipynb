{
 "cells": [
  {
   "cell_type": "code",
   "execution_count": 1,
   "id": "2380fa70-4bbb-48d5-bed3-cf08080c161c",
   "metadata": {},
   "outputs": [],
   "source": [
    "from pathlib import Path\n",
    "import pandas as pd\n",
    "import transformers\n",
    "from transformers import pipeline\n",
    "from datasets import load_dataset"
   ]
  },
  {
   "cell_type": "markdown",
   "id": "58e728c3-7166-4ad7-9b16-ff2fa17f716e",
   "metadata": {},
   "source": [
    "## Load the data"
   ]
  },
  {
   "cell_type": "code",
   "execution_count": null,
   "id": "ee31a0f8-62e6-4612-b8e2-8ee59c37ae05",
   "metadata": {},
   "outputs": [],
   "source": [
    "# data_path = Path(\"/data/wkt406/covid-patients-progress-notes.csv\")\n",
    "# df = pd.read_csv(data_path)\n",
    "# df.head()"
   ]
  },
  {
   "cell_type": "markdown",
   "id": "aca766ae-14f8-4f55-a679-2541f272bfdf",
   "metadata": {},
   "source": [
    "## Tokenize text"
   ]
  },
  {
   "cell_type": "code",
   "execution_count": null,
   "id": "6bb2b115-2781-4342-b7a2-97e48b8ca78a",
   "metadata": {},
   "outputs": [],
   "source": [
    "from transformers import AutoTokenizer"
   ]
  },
  {
   "cell_type": "code",
   "execution_count": null,
   "id": "bb5a0bb6-5d4e-45d5-9faa-339b6faa8117",
   "metadata": {},
   "outputs": [],
   "source": [
    "tokenizer = AutoTokenizer.from_pretrained(\"distilbert-base-uncased\")"
   ]
  },
  {
   "cell_type": "code",
   "execution_count": null,
   "id": "bd2cc41e-9a31-4aab-9c50-88041318e325",
   "metadata": {},
   "outputs": [],
   "source": [
    "encoded_text = tokenizer(\"This is a test of the fantastically capable tokenizer.\")\n",
    "tokens = tokenizer.convert_ids_to_tokens(encoded_text['input_ids'])\n",
    "text = tokenizer.convert_tokens_to_string(tokens)"
   ]
  },
  {
   "cell_type": "code",
   "execution_count": null,
   "id": "c2b7b87e-563a-401c-a5d7-c3f85bf811b7",
   "metadata": {},
   "outputs": [],
   "source": [
    "print(tokens)\n",
    "print(text)"
   ]
  },
  {
   "cell_type": "code",
   "execution_count": null,
   "id": "26c1f449-fdd6-4a1c-80f9-2a7b0c787925",
   "metadata": {},
   "outputs": [],
   "source": [
    "emotions = load_dataset(\"emotion\")"
   ]
  },
  {
   "cell_type": "code",
   "execution_count": null,
   "id": "87380089-73db-42b6-b1c1-a76cb1bc1f43",
   "metadata": {},
   "outputs": [],
   "source": [
    "emotions['train']['text'][:10]"
   ]
  },
  {
   "cell_type": "code",
   "execution_count": null,
   "id": "92364764-be05-459b-922c-517ee12da177",
   "metadata": {},
   "outputs": [],
   "source": [
    "emotions.set_format(type=\"pandas\")"
   ]
  },
  {
   "cell_type": "code",
   "execution_count": null,
   "id": "c224cb45-2ad2-488f-b1fe-4cc37d03c1fa",
   "metadata": {},
   "outputs": [],
   "source": [
    "df = emotions['train'][:]"
   ]
  },
  {
   "cell_type": "code",
   "execution_count": null,
   "id": "87164fdd-bc1d-4f72-bed2-74af751453ce",
   "metadata": {},
   "outputs": [],
   "source": [
    "df"
   ]
  },
  {
   "cell_type": "code",
   "execution_count": null,
   "id": "e80e35c4-f14c-4ece-b50b-4d60b960256d",
   "metadata": {},
   "outputs": [],
   "source": [
    "emotions.reset_format()"
   ]
  },
  {
   "cell_type": "code",
   "execution_count": null,
   "id": "903c945b-ee8e-4667-b085-4516ca743873",
   "metadata": {},
   "outputs": [],
   "source": [
    "def tokenize(batch):\n",
    "    return tokenizer(batch[\"text\"], padding=True, truncation=True)"
   ]
  },
  {
   "cell_type": "code",
   "execution_count": null,
   "id": "fbd58457-421a-4ed5-a463-bceb90edcf85",
   "metadata": {},
   "outputs": [],
   "source": [
    "tokenize(emotions['train'][:2])"
   ]
  },
  {
   "cell_type": "code",
   "execution_count": null,
   "id": "11e749ae-369e-4df5-96d8-5856c173e0b4",
   "metadata": {},
   "outputs": [],
   "source": [
    "emotions_encoded = emotions.map(tokenize, batched=True, batch_size=None)"
   ]
  },
  {
   "cell_type": "code",
   "execution_count": null,
   "id": "82c57e9e-7044-4de5-beef-a917d8f587ec",
   "metadata": {},
   "outputs": [],
   "source": [
    "emotions_encoded"
   ]
  },
  {
   "cell_type": "markdown",
   "id": "8bfd26d0-e4aa-4c16-a2d1-736c45ae896b",
   "metadata": {},
   "source": [
    "## Extracting hidden states"
   ]
  },
  {
   "cell_type": "code",
   "execution_count": null,
   "id": "3773d508-8168-496c-bdc1-669c5eb2141e",
   "metadata": {},
   "outputs": [],
   "source": [
    "import torch\n",
    "from transformers import AutoModel"
   ]
  },
  {
   "cell_type": "code",
   "execution_count": null,
   "id": "7f1819a4-d43d-4937-a41b-d75aba8c8f41",
   "metadata": {},
   "outputs": [],
   "source": [
    "model_ckpt = \"distilbert-base-uncased\"\n",
    "device = torch.device(\"cuda\" if torch.cuda.is_available() else \"cpu\")\n",
    "model = AutoModel.from_pretrained(model_ckpt).to(device)"
   ]
  },
  {
   "cell_type": "code",
   "execution_count": null,
   "id": "2a4f2e7f-794b-4d3f-be13-f1d797a2dd27",
   "metadata": {},
   "outputs": [],
   "source": [
    "def extract_hidden_states(batch):\n",
    "    # Place model inputs on the GPU\n",
    "    inputs = {k:v.to(device) for k,v in batch.items()\n",
    "              if k in tokenizer.model_input_names}\n",
    "    # Extract last hidden states\n",
    "    with torch.no_grad():\n",
    "        last_hidden_state = model(**inputs).last_hidden_state\n",
    "    # Return vector for [CLS] token\n",
    "    return {\"hidden_state\": last_hidden_state[:,0].cpu().numpy()}"
   ]
  },
  {
   "cell_type": "code",
   "execution_count": null,
   "id": "c152a4c1-87ee-49f4-8f45-4fa05a33ec7d",
   "metadata": {},
   "outputs": [],
   "source": [
    "emotions_encoded.set_format(\"torch\", columns=[\"input_ids\", \"attention_mask\", \"label\"])"
   ]
  },
  {
   "cell_type": "code",
   "execution_count": null,
   "id": "908620bc-5ef8-47c8-a2fc-bb97aa8649f0",
   "metadata": {},
   "outputs": [],
   "source": [
    "emotions_hidden = emotions_encoded.map(extract_hidden_states, batched=True)"
   ]
  },
  {
   "cell_type": "code",
   "execution_count": null,
   "id": "d1f0e3ad-4259-4b27-b028-cf181b5dffe3",
   "metadata": {},
   "outputs": [],
   "source": [
    "print(emotions_hidden['train']['text'][0])\n",
    "print(emotions_hidden['train']['hidden_state'][0].shape)"
   ]
  },
  {
   "cell_type": "markdown",
   "id": "6b8eaa51-a60a-406c-81f3-8b4a7b9eeee1",
   "metadata": {},
   "source": [
    "## Train a classifier"
   ]
  },
  {
   "cell_type": "code",
   "execution_count": null,
   "id": "13cd3d87-5099-4ec3-9c3e-32f128dc60a8",
   "metadata": {},
   "outputs": [],
   "source": [
    "from transformers import AutoModelForSequenceClassification\n",
    "\n",
    "num_labels = 6\n",
    "model = (AutoModelForSequenceClassification\n",
    "         .from_pretrained(model_ckpt, num_labels=num_labels)\n",
    "         .to(device))"
   ]
  },
  {
   "cell_type": "code",
   "execution_count": null,
   "id": "8aaa57ae-bafe-4028-b535-e4d9676adfee",
   "metadata": {},
   "outputs": [],
   "source": [
    "from sklearn.metrics import accuracy_score, f1_score\n",
    "\n",
    "def compute_metrics(pred):\n",
    "    labels = pred.label_ids\n",
    "    preds = pred.predictions.argmax(-1)\n",
    "    f1 = f1_score(labels, preds, average=\"weighted\")\n",
    "    acc = accuracy_score(labels, preds)\n",
    "    return {\"accuracy\": acc, \"f1\": f1}"
   ]
  },
  {
   "cell_type": "code",
   "execution_count": null,
   "id": "36a32fcb-afa9-4acf-a057-b3c2da537209",
   "metadata": {},
   "outputs": [],
   "source": [
    "from transformers import Trainer, TrainingArguments\n",
    "\n",
    "batch_size = 64\n",
    "logging_steps = len(emotions_encoded[\"train\"]) // batch_size\n",
    "model_name = f\"{model_ckpt}-finetuned-emotion\"\n",
    "training_args = TrainingArguments(output_dir=model_name,\n",
    "                                  # optim=torch.optim.AdamW,\n",
    "                                  optim=\"adamw_torch\",\n",
    "                                  num_train_epochs=2,\n",
    "                                  learning_rate=2e-5,\n",
    "                                  per_device_train_batch_size=batch_size,\n",
    "                                  per_device_eval_batch_size=batch_size,\n",
    "                                  weight_decay=0.01,\n",
    "                                  evaluation_strategy=\"epoch\",\n",
    "                                  disable_tqdm=False,\n",
    "                                  logging_steps=logging_steps,\n",
    "                                  push_to_hub=False,\n",
    "                                  log_level=\"error\")"
   ]
  },
  {
   "cell_type": "code",
   "execution_count": null,
   "id": "719c2436-3bfb-42a0-890f-73d1b3ea8b1b",
   "metadata": {},
   "outputs": [],
   "source": [
    "from transformers import Trainer\n",
    "\n",
    "trainer = Trainer(model=model, args=training_args,\n",
    "                  compute_metrics=compute_metrics,\n",
    "                  train_dataset=emotions_encoded[\"train\"],\n",
    "                  eval_dataset=emotions_encoded[\"validation\"],\n",
    "                  tokenizer=tokenizer)\n",
    "trainer.train()"
   ]
  }
 ],
 "metadata": {
  "kernelspec": {
   "display_name": "Python 3 (ipykernel)",
   "language": "python",
   "name": "python3"
  },
  "language_info": {
   "codemirror_mode": {
    "name": "ipython",
    "version": 3
   },
   "file_extension": ".py",
   "mimetype": "text/x-python",
   "name": "python",
   "nbconvert_exporter": "python",
   "pygments_lexer": "ipython3",
   "version": "3.9.12"
  }
 },
 "nbformat": 4,
 "nbformat_minor": 5
}
